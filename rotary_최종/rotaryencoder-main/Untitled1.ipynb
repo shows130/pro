{
 "cells": [
  {
   "cell_type": "code",
   "execution_count": 9,
   "id": "869a3d27",
   "metadata": {
    "ExecuteTime": {
     "end_time": "2021-10-15T07:54:31.207273Z",
     "start_time": "2021-10-15T07:54:31.149306Z"
    }
   },
   "outputs": [],
   "source": [
    "import yaml\n",
    "import re"
   ]
  },
  {
   "cell_type": "code",
   "execution_count": 3,
   "id": "f9db9b63",
   "metadata": {
    "ExecuteTime": {
     "end_time": "2021-10-15T07:55:49.304468Z",
     "start_time": "2021-10-15T07:55:49.288862Z"
    }
   },
   "outputs": [
    {
     "name": "stderr",
     "output_type": "stream",
     "text": [
      "C:\\Users\\USER\\AppData\\Local\\Programs\\Python\\Python37\\lib\\site-packages\\ipykernel_launcher.py:3: YAMLLoadWarning: calling yaml.load() without Loader=... is deprecated, as the default Loader is unsafe. Please read https://msg.pyyaml.org/load for full details.\n",
      "  This is separate from the ipykernel package so we can avoid doing imports until\n"
     ]
    }
   ],
   "source": [
    "with open('test_server.yaml') as f:\n",
    "\n",
    "    server_data = yaml.load(f)\n",
    "\n"
   ]
  },
  {
   "cell_type": "code",
   "execution_count": 4,
   "id": "3155ad91",
   "metadata": {
    "ExecuteTime": {
     "end_time": "2021-10-15T07:56:04.481766Z",
     "start_time": "2021-10-15T07:56:04.476773Z"
    }
   },
   "outputs": [],
   "source": [
    "host = server_data['web'][\"host\"]"
   ]
  },
  {
   "cell_type": "code",
   "execution_count": 5,
   "id": "bf10412e",
   "metadata": {
    "ExecuteTime": {
     "end_time": "2021-10-15T07:56:14.527996Z",
     "start_time": "2021-10-15T07:56:14.512024Z"
    }
   },
   "outputs": [
    {
     "name": "stdout",
     "output_type": "stream",
     "text": [
      "0.0.0.0\n"
     ]
    }
   ],
   "source": [
    "print(host)"
   ]
  },
  {
   "cell_type": "code",
   "execution_count": 6,
   "id": "bc3b5ba6",
   "metadata": {
    "ExecuteTime": {
     "end_time": "2021-10-15T07:56:25.992602Z",
     "start_time": "2021-10-15T07:56:25.977593Z"
    }
   },
   "outputs": [
    {
     "data": {
      "text/plain": [
       "str"
      ]
     },
     "execution_count": 6,
     "metadata": {},
     "output_type": "execute_result"
    }
   ],
   "source": [
    "type(host)"
   ]
  },
  {
   "cell_type": "code",
   "execution_count": 7,
   "id": "1f9f4bbf",
   "metadata": {
    "ExecuteTime": {
     "end_time": "2021-10-15T07:56:58.236660Z",
     "start_time": "2021-10-15T07:56:58.226687Z"
    }
   },
   "outputs": [],
   "source": [
    "\n",
    "PORT = server_data['web']['port']"
   ]
  },
  {
   "cell_type": "code",
   "execution_count": 8,
   "id": "a074a4ee",
   "metadata": {
    "ExecuteTime": {
     "end_time": "2021-10-15T07:57:15.509605Z",
     "start_time": "2021-10-15T07:57:15.502624Z"
    }
   },
   "outputs": [
    {
     "name": "stdout",
     "output_type": "stream",
     "text": [
      "8080\n"
     ]
    },
    {
     "data": {
      "text/plain": [
       "int"
      ]
     },
     "execution_count": 8,
     "metadata": {},
     "output_type": "execute_result"
    }
   ],
   "source": [
    "print(PORT)\n",
    "type(PORT)"
   ]
  },
  {
   "cell_type": "code",
   "execution_count": 9,
   "id": "d99bf62a",
   "metadata": {
    "ExecuteTime": {
     "end_time": "2021-10-15T07:57:26.170099Z",
     "start_time": "2021-10-15T07:57:26.156108Z"
    }
   },
   "outputs": [
    {
     "data": {
      "text/plain": [
       "str"
      ]
     },
     "execution_count": 9,
     "metadata": {},
     "output_type": "execute_result"
    }
   ],
   "source": [
    "type(IP)"
   ]
  },
  {
   "cell_type": "code",
   "execution_count": 10,
   "id": "6439d977",
   "metadata": {
    "ExecuteTime": {
     "end_time": "2021-10-15T07:57:41.444570Z",
     "start_time": "2021-10-15T07:57:41.426581Z"
    }
   },
   "outputs": [
    {
     "data": {
      "text/plain": [
       "int"
      ]
     },
     "execution_count": 10,
     "metadata": {},
     "output_type": "execute_result"
    }
   ],
   "source": [
    "type(PORT)"
   ]
  },
  {
   "cell_type": "code",
   "execution_count": 14,
   "id": "e5788f7b",
   "metadata": {},
   "outputs": [
    {
     "data": {
      "text/plain": [
       "899"
      ]
     },
     "execution_count": 14,
     "metadata": {},
     "output_type": "execute_result"
    }
   ],
   "source": [
    "value = \"  899\"\n",
    "int(value)\n",
    "# value = re.sub(\" \",\"\", value)"
   ]
  },
  {
   "cell_type": "code",
   "execution_count": 12,
   "metadata": {},
   "outputs": [
    {
     "name": "stdout",
     "output_type": "stream",
     "text": [
      "899\n"
     ]
    }
   ],
   "source": [
    "print(value)"
   ]
  },
  {
   "cell_type": "code",
   "execution_count": 13,
   "metadata": {},
   "outputs": [
    {
     "data": {
      "text/plain": [
       "str"
      ]
     },
     "execution_count": 13,
     "metadata": {},
     "output_type": "execute_result"
    }
   ],
   "source": [
    "type(value)"
   ]
  },
  {
   "cell_type": "code",
   "execution_count": null,
   "metadata": {},
   "outputs": [],
   "source": []
  }
 ],
 "metadata": {
  "interpreter": {
   "hash": "2bd04dc09fab68ca3ef149792dfe3505936e6301cdd003bc123cc71dc1164e1a"
  },
  "kernelspec": {
   "display_name": "Python 3.7.9 64-bit",
   "name": "python3"
  },
  "language_info": {
   "codemirror_mode": {
    "name": "ipython",
    "version": 3
   },
   "file_extension": ".py",
   "mimetype": "text/x-python",
   "name": "python",
   "nbconvert_exporter": "python",
   "pygments_lexer": "ipython3",
   "version": "3.7.9"
  },
  "toc": {
   "base_numbering": 1,
   "nav_menu": {},
   "number_sections": true,
   "sideBar": true,
   "skip_h1_title": false,
   "title_cell": "Table of Contents",
   "title_sidebar": "Contents",
   "toc_cell": false,
   "toc_position": {},
   "toc_section_display": true,
   "toc_window_display": false
  }
 },
 "nbformat": 4,
 "nbformat_minor": 5
}

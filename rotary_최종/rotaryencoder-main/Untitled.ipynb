{
 "cells": [
  {
   "cell_type": "code",
   "execution_count": 2,
   "metadata": {},
   "outputs": [],
   "source": [
    "import pymysql\n",
    "import yaml\n",
    "\n",
    "with open('test_server.yaml') as f:\n",
    "\n",
    "    server_data = yaml.load(f, Loader=yaml.FullLoader)"
   ]
  },
  {
   "cell_type": "code",
   "execution_count": 3,
   "metadata": {},
   "outputs": [],
   "source": [
    "db = pymysql.connect(host=server_data['sql']['host'], user=server_data['sql']['user'], password=server_data['sql']['password'], db=server_data['sql']['db'], charset=server_data['sql']['charset'])\n",
    "    \n",
    "cur = db.cursor()"
   ]
  },
  {
   "cell_type": "code",
   "execution_count": 87,
   "metadata": {},
   "outputs": [],
   "source": [
    "query = f'SELECT * FROM rotary.encoder;'\n",
    "\n",
    "cur.execute(query)\n",
    "db.commit()\n",
    "\n",
    "mm_per_parse = server_data['device']['wheel']*3.14/100\n",
    "datum = cur.fetchall()\n",
    "datum = list(datum)"
   ]
  },
  {
   "cell_type": "code",
   "execution_count": 89,
   "metadata": {},
   "outputs": [
    {
     "name": "stdout",
     "output_type": "stream",
     "text": [
      "[(2, '1', '2021-10-18', '15:07:06', '70', 56), (3, '1', '2021-10-18', '15:08:49', '76.006', 61), (4, '1', '2021-10-19', '10:55:18', '251.692', 200), (5, '2', '2021-10-19', '10:56:54', '479.71', 382), (6, '2', '2021-10-19', '10:58:56', '218.05', 174)]\n"
     ]
    }
   ],
   "source": [
    "for i in datum :\n",
    "    num = datum.index(i)\n",
    "    i = list(i)\n",
    "    i.append(round(float(i[4])/mm_per_parse))\n",
    "    datum[num] = tuple(i)\n",
    "\n",
    "print(datum)"
   ]
  },
  {
   "cell_type": "code",
   "execution_count": 90,
   "metadata": {},
   "outputs": [],
   "source": [
    "datum = reversed(tuple(datum))"
   ]
  },
  {
   "cell_type": "code",
   "execution_count": 92,
   "metadata": {},
   "outputs": [
    {
     "name": "stdout",
     "output_type": "stream",
     "text": [
      "<reversed object at 0x0000026D1C316248>\n"
     ]
    }
   ],
   "source": [
    "print(datum)"
   ]
  },
  {
   "cell_type": "code",
   "execution_count": 93,
   "metadata": {},
   "outputs": [
    {
     "name": "stdout",
     "output_type": "stream",
     "text": [
      "(6, '2', '2021-10-19', '10:58:56', '218.05', 174)\n",
      "(5, '2', '2021-10-19', '10:56:54', '479.71', 382)\n",
      "(4, '1', '2021-10-19', '10:55:18', '251.692', 200)\n",
      "(3, '1', '2021-10-18', '15:08:49', '76.006', 61)\n",
      "(2, '1', '2021-10-18', '15:07:06', '70', 56)\n"
     ]
    }
   ],
   "source": [
    "for data in datum :\n",
    "    print(data)"
   ]
  }
 ],
 "metadata": {
  "interpreter": {
   "hash": "2bd04dc09fab68ca3ef149792dfe3505936e6301cdd003bc123cc71dc1164e1a"
  },
  "kernelspec": {
   "display_name": "Python 3.7.9 64-bit",
   "name": "python3"
  },
  "language_info": {
   "codemirror_mode": {
    "name": "ipython",
    "version": 3
   },
   "file_extension": ".py",
   "mimetype": "text/x-python",
   "name": "python",
   "nbconvert_exporter": "python",
   "pygments_lexer": "ipython3",
   "version": "3.7.9"
  }
 },
 "nbformat": 4,
 "nbformat_minor": 5
}
